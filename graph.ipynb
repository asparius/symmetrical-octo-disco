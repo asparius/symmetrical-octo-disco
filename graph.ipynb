{
 "cells": [
  {
   "cell_type": "code",
   "execution_count": 97,
   "id": "49cd5618",
   "metadata": {},
   "outputs": [
    {
     "name": "stdout",
     "output_type": "stream",
     "text": [
      "Overwriting viz.py\n"
     ]
    }
   ],
   "source": [
    "%%writefile viz.py\n",
    "\n",
    "\n",
    "import sys\n",
    "import subprocess\n",
    "import sys\n",
    "\n",
    "def install(package):\n",
    "    subprocess.check_call([sys.executable, \"-m\", \"pip\", \"install\", package])\n",
    "\n",
    "\n",
    "try:\n",
    "    import graphviz\n",
    "except:\n",
    "    install('graphviz')\n",
    "    import graphviz\n",
    "try:\n",
    "    import pandas as pd\n",
    "except:\n",
    "    install('pandas')\n",
    "    import pandas as pd\n",
    "    \n",
    "dot = graphviz.Digraph('process', format = 'png')\n",
    "\n",
    "data = pd.read_table(sys.argv[1],names=[\"id\",\"pid\",\"time\"],delimiter=\",\")\n",
    "\n",
    "dot.node(str(int(data.iloc[0].id)))\n",
    "\n",
    "for i in range(1,len(data)):\n",
    "    dot.node(str(int(data.iloc[i].id)))\n",
    "    dot.edge(str(int(data.iloc[i].pid)),str(int(data.iloc[i].id)))\n",
    "\n",
    "dot.render()"
   ]
  },
  {
   "cell_type": "code",
   "execution_count": 90,
   "id": "123696d0",
   "metadata": {},
   "outputs": [],
   "source": [
    "dot = graphviz.Digraph('process', format = 'png')"
   ]
  },
  {
   "cell_type": "code",
   "execution_count": 91,
   "id": "af7bc2d4",
   "metadata": {},
   "outputs": [],
   "source": [
    "data = pd.read_table('untitled.txt',names=[\"id\",\"pid\",\"name\"],delimiter=\",\")"
   ]
  },
  {
   "cell_type": "code",
   "execution_count": 92,
   "id": "82d0b87c",
   "metadata": {},
   "outputs": [],
   "source": [
    "dot.node(str(int(data.iloc[0].id)))"
   ]
  },
  {
   "cell_type": "code",
   "execution_count": 93,
   "id": "c4195f3c",
   "metadata": {},
   "outputs": [],
   "source": [
    "for i in range(1,len(data)):\n",
    "    dot.node(str(int(data.iloc[i].id)))\n",
    "    dot.edge(str(int(data.iloc[i].pid)),str(int(data.iloc[i].id)))"
   ]
  },
  {
   "cell_type": "code",
   "execution_count": 94,
   "id": "5cb6fbac",
   "metadata": {},
   "outputs": [
    {
     "data": {
      "text/plain": [
       "'process.gv.png'"
      ]
     },
     "execution_count": 94,
     "metadata": {},
     "output_type": "execute_result"
    }
   ],
   "source": [
    "dot.render()"
   ]
  },
  {
   "cell_type": "code",
   "execution_count": null,
   "id": "307e128e",
   "metadata": {},
   "outputs": [],
   "source": []
  }
 ],
 "metadata": {
  "kernelspec": {
   "display_name": "Python 3 (ipykernel)",
   "language": "python",
   "name": "python3"
  },
  "language_info": {
   "codemirror_mode": {
    "name": "ipython",
    "version": 3
   },
   "file_extension": ".py",
   "mimetype": "text/x-python",
   "name": "python",
   "nbconvert_exporter": "python",
   "pygments_lexer": "ipython3",
   "version": "3.10.6"
  }
 },
 "nbformat": 4,
 "nbformat_minor": 5
}
